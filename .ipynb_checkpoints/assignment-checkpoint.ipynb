{
 "cells": [
  {
   "cell_type": "code",
   "execution_count": null,
   "id": "c75b6c31-1c7d-49a4-8c10-157abc4b7b62",
   "metadata": {},
   "outputs": [],
   "source": [
    "import pandas as pd\n",
    "data = {'Name': ['Alice', 'Bob', 'Charlie', 'David', 'Eva', 'John'],\n",
    "    'Age': [25, 30, 35, 40, 22, 53],\n",
    "    'City': ['Mumbai', 'Delhi', 'Chennai', 'Kolkata', 'Pune', 'Banglore']}\n",
    "df = pd.DataFrame(data)\n",
    "print(\"Original DataFrame\",df)\n",
    "print(\"1. Normal slicing\")\n",
    "print(df[:4])  \n",
    "print(df[2:5])  \n",
    "print(\"Slicing using iloc\")\n",
    "print(df.iloc[1:5])\n",
    "print(df.iloc[0:3,0:3])\n",
    "print(\"Slicing using loc\")\n",
    "print(df.loc[1:4])\n",
    "print(df.loc[0:2][['Name', 'City']])\n",
    "\n"
   ]
  },
  {
   "cell_type": "code",
   "execution_count": null,
   "id": "96710965-7952-4a17-afbe-78e621863c7e",
   "metadata": {},
   "outputs": [],
   "source": []
  },
  {
   "cell_type": "code",
   "execution_count": null,
   "id": "edf7f163-ebd0-49d1-8c61-4e081c186b12",
   "metadata": {},
   "outputs": [],
   "source": []
  }
 ],
 "metadata": {
  "kernelspec": {
   "display_name": "Python 3 (ipykernel)",
   "language": "python",
   "name": "python3"
  },
  "language_info": {
   "codemirror_mode": {
    "name": "ipython",
    "version": 3
   },
   "file_extension": ".py",
   "mimetype": "text/x-python",
   "name": "python",
   "nbconvert_exporter": "python",
   "pygments_lexer": "ipython3",
   "version": "3.12.7"
  }
 },
 "nbformat": 4,
 "nbformat_minor": 5
}

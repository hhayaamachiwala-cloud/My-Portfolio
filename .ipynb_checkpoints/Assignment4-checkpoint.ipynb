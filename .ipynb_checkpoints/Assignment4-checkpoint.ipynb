{
 "cells": [
  {
   "cell_type": "code",
   "execution_count": null,
   "id": "5e6f70fc-6464-453f-8c8d-0030807304ac",
   "metadata": {},
   "outputs": [],
   "source": [
    "import matplotlib.pyplot as plt\n",
    "\n",
    "plt.figure(figsize=(12, 10))\n",
    "\n",
    "plt.subplot(2,2,1)\n",
    "x1 = [1, 2, 3, 4, 5, 6, 7, 8, 9, 10]\n",
    "y1 = [2, 4, 5, 7, 8, 10, 11, 13, 14, 16]\n",
    "plt.scatter(x1,y1,marker='.',color='green', linestyle='-')\n",
    "plt.title('Hours Studied VS Exam Score')\n",
    "plt.xlabel('Hours Studied')\n",
    "plt.ylabel('Exam Score')\n",
    "\n",
    "plt.subplot(2,2,2)\n",
    "x2 = ['Apples', 'Bananas', 'Oranges', 'Grapes', 'Strawberries']\n",
    "y2 = [35, 20, 25, 15, 30]\n",
    "plt.bar(x2,y2,color='blue')\n",
    "plt.title('Favorite Fruits')\n",
    "plt.xlabel('Favorite Fruits')\n",
    "plt.ylabel('Number of People')\n",
    "\n",
    "plt.subplot(2,2,3)\n",
    "x3 = [1, 2, 3, 4, 5, 6, 7, 8, 9, 10, 11, 12]\n",
    "y3 = [100, 105, 110, 108, 115, 120, 125, 122, 118, 112, 105, 100]\n",
    "plt.plot(x3,y3,marker='*',linestyle='--',color='orange')\n",
    "plt.title('Monthly Website Visitors')\n",
    "plt.xlabel('Months of the Year')\n",
    "plt.ylabel('Website Visitors')\n",
    "\n",
    "plt.subplot(2,2,4)\n",
    "x4 = [50, 60, 70, 80, 90, 100, 110, 120, 130, 140]\n",
    "y4 = [10, 12, 15, 18, 20, 22, 25, 28, 30, 32]\n",
    "plt.scatter(x4,y4,color='purple')\n",
    "plt.title('Temperature vs Ice Cream Sales')\n",
    "plt.xlabel('Daily Temperature in Celsius')\n",
    "plt.ylabel(' Ice Cream Sales in Units')\n",
    "\n",
    "plt.show()\n"
   ]
  },
  {
   "cell_type": "code",
   "execution_count": null,
   "id": "e502d902-5497-466c-b120-933831c9f228",
   "metadata": {},
   "outputs": [],
   "source": []
  },
  {
   "cell_type": "code",
   "execution_count": null,
   "id": "a30a5af2-8aaa-4e3a-91f2-a2e7b53e4d3e",
   "metadata": {},
   "outputs": [],
   "source": []
  }
 ],
 "metadata": {
  "kernelspec": {
   "display_name": "Python 3 (ipykernel)",
   "language": "python",
   "name": "python3"
  },
  "language_info": {
   "codemirror_mode": {
    "name": "ipython",
    "version": 3
   },
   "file_extension": ".py",
   "mimetype": "text/x-python",
   "name": "python",
   "nbconvert_exporter": "python",
   "pygments_lexer": "ipython3",
   "version": "3.12.7"
  }
 },
 "nbformat": 4,
 "nbformat_minor": 5
}
